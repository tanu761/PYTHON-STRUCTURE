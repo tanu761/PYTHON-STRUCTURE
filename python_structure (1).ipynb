{
  "cells": [
    {
      "cell_type": "markdown",
      "source": [
        "(PYTHON STRUCTURE ....)"
      ],
      "metadata": {
        "id": "7UGAinrqtkXV"
      }
    },
    {
      "cell_type": "markdown",
      "source": [
        "1Q..ANS  \n",
        "      \n",
        "    A data structure is a specialized format for organizing, storing, and managing data in a computer so that it can be accessed and used efficiently.\n",
        "     They are fundamental components of computer science because they give form to abstract data points, allowing users and systems to efficiently organize, work with, and store data .\n",
        "#importance..\n",
        "...    Efficient Data Processing: Choosing the right data structure can make programs run faster and use less memory. They enable algorithms to run faster and consume fewer resources by optimizing data storage and access patterns .\n",
        "\n"
      ],
      "metadata": {
        "id": "v8Bx9tFjtv_4"
      }
    },
    {
      "cell_type": "markdown",
      "source": [
        "2Q.ANS..\n",
        "    🔁 Mutable Data Types>>: Mutable objects can be changed after they are created. You can modify their content without changing their identity.\n",
        "\n",
        "               \n",
        "    #examples...\n",
        "    \n",
        "    my_list = [1, 2, 3]\n",
        "my_list.append(4)\n",
        "print(my_list)  # Output: [1, 2, 3, 4]\n",
        "\n",
        "               \n",
        "   #IMMUTABLE DATA TYPES..\n",
        "           : Immutable objects cannot be changed after they are created. Any operation that seems to modify them will instead create a new object.\n",
        "            \n",
        "       #EXAMPLE..\n",
        "\n",
        "       my_string = \"hello\"\n",
        "new_string = my_string.replace(\"h\", \"j\")\n",
        "print(my_string)   # Output: \"hello\"\n",
        "print(new_string)  # Output: \"jello\"\n",
        "\n",
        "\n",
        "\n",
        "\n"
      ],
      "metadata": {
        "id": "D8Gd1kWHw0KY"
      }
    },
    {
      "cell_type": "markdown",
      "source": [],
      "metadata": {
        "id": "UmQl0p7gxgeG"
      }
    },
    {
      "cell_type": "markdown",
      "source": [
        "3Q.ANS..\n",
        "      LISTS>>Defined using square brackets []\t.\n",
        "     \n",
        " TUPLES>>Defined using parentheses ()\n"
      ],
      "metadata": {
        "id": "E2BwLjnwzWc6"
      }
    },
    {
      "cell_type": "markdown",
      "source": [
        "4Q.ANS..\n",
        "In Python, dictionaries are implemented using a data structure called a hash table, which allows for efficient storage and retrieval of key-value pairs.\n",
        "\n",
        "#hasing the key..,,storing the entry..,memory optimization .."
      ],
      "metadata": {
        "id": "zeiFXeQ0z1ph"
      }
    },
    {
      "cell_type": "markdown",
      "source": [
        "5Q.ans..\n",
        "In Python, both sets and lists are used to store collections of items, but they have distinct characteristics that make them suitable for different scenarios.\n",
        "\n",
        "..list>>Maintains insertion order\n",
        "\n",
        "..set>>Unordered"
      ],
      "metadata": {
        "id": "47Lvr8JT0kaS"
      }
    },
    {
      "cell_type": "markdown",
      "source": [
        "6Q.ANS..A string is a sequence of characters enclosed within single ('), double (\"), or triple quotes (''' or \"\"\"). It is used to represent textual data. AND A list is a mutable sequence that can hold a collection of items, which can be of varying data types. For example:\n",
        "\n"
      ],
      "metadata": {
        "id": "Xr8YUCWE1-dk"
      }
    },
    {
      "cell_type": "markdown",
      "source": [
        "7Q.ANS..In Python, tuples are immutable sequences, meaning once created, their contents cannot be altered. This immutability plays a crucial role in ensuring data integrity within programs.\n",
        "....HERE HOW...\n",
        "\n",
        "           student_info = (\"Alice\", 20, [\"Math\", \"Science\"])\n",
        "student_info[2].append(\"History\")\n",
        "print(student_info)  # Output: ('Alice', 20, ['Math', 'Science', 'History'])\n",
        "\n",
        "\n"
      ],
      "metadata": {
        "id": "R_W2InL22lX-"
      }
    },
    {
      "cell_type": "markdown",
      "source": [
        "8Q.ANS..A hash table is a data structure that maps keys to values using a hash function. This function computes an index (also known as a hash code) into an array of buckets or slots, from which the desired value can be found.\n",
        "\n",
        "Python's dictionaries use open addressing with a technique called open addressing with quadratic probing to resolve collisions.\n",
        "\n"
      ],
      "metadata": {
        "id": "9tZ7DQ0I3PoH"
      }
    },
    {
      "cell_type": "markdown",
      "source": [
        "9Q.ANS..Yes, in Python, lists can contain elements of different data types. This flexibility is one of the key features of Python's list data structure.\n",
        "\n",
        "\n"
      ],
      "metadata": {
        "id": "CO3kXLDV3872"
      }
    },
    {
      "cell_type": "markdown",
      "source": [
        "10Q.ANS ..In Python, strings are immutable, meaning their content cannot be altered after they are created. This design choice offers several advantages in terms of performance, safety, and functionality.\n",
        "\n",
        "\n",
        "\n"
      ],
      "metadata": {
        "id": "crMTf6ff4TWy"
      }
    },
    {
      "cell_type": "markdown",
      "source": [
        "11Q.ANS..In Python, dictionaries offer several advantages over lists for certain tasks, particularly when you need to associate unique keys with values and perform fast lookups..\n",
        "\n"
      ],
      "metadata": {
        "id": "wTx_A8Zg4vY1"
      }
    },
    {
      "cell_type": "markdown",
      "source": [
        "12Q.ANS..In Python, tuples are preferable over lists in scenarios where data integrity, performance, and memory efficiency are paramount.\n",
        "\n"
      ],
      "metadata": {
        "id": "9UQeeQIQ5OI6"
      }
    },
    {
      "cell_type": "markdown",
      "source": [
        "13Q.ANS..In Python, sets are collections that automatically handle duplicate values by storing only unique elements. This behavior is fundamental to their design and is achieved through the use of hashing.\n"
      ],
      "metadata": {
        "id": "7xwCttJe53cI"
      }
    },
    {
      "cell_type": "markdown",
      "source": [
        "14Q.ANS..Checks for Element Presence: When used with a list, in checks if a specific value exists as an element within the list.\n",
        "\n",
        "python\n",
        "Copy\n",
        "Edit\n",
        "\n",
        "\n",
        "When you use in with a dictionary, Python checks for the presence of a key in the dictionary. This operation is optimized using a hash table, allowing for faster lookups.\n",
        "\n"
      ],
      "metadata": {
        "id": "wGbux5TX6MbH"
      }
    },
    {
      "cell_type": "markdown",
      "source": [
        "15Q.ANS..In Python, tuples are immutable, meaning that once a tuple is created, its elements cannot be changed, added, or removed. This immutability is a fundamental characteristic of tuples and is enforced by Python's design.\n",
        "\n"
      ],
      "metadata": {
        "id": "mYFqh2AY7OqU"
      }
    },
    {
      "cell_type": "markdown",
      "source": [
        "16Q.ANS..A nested dictionary is simply a dictionary within another dictionary. Each key in the outer dictionary maps to another dictionary, which can contain its own keys and values.\n",
        "\n",
        " EXAMPLE>>\n",
        "\n",
        " student_info = {\n",
        "    'student1': {'name': 'Alice', 'age': 21, 'courses': ['Math', 'Science']},\n",
        "    'student2': {'name': 'Bob', 'age': 22, 'courses': ['History', 'Art']},\n",
        "}\n",
        "\n"
      ],
      "metadata": {
        "id": "YrUY6gB98YPH"
      }
    },
    {
      "cell_type": "markdown",
      "source": [
        "17Q.ANS..🔍 Time Complexity of Dictionary Access\n",
        "\n",
        "\n",
        "Dictionaries use a hash table to map keys to values. When you access a value using a key (e.g., my_dict['key']), Python computes the hash of the key and directly accesses the corresponding bucket in the hash table. This allows for constant-time lookups on average.\n"
      ],
      "metadata": {
        "id": "VEIvemOb9RDi"
      }
    },
    {
      "cell_type": "markdown",
      "source": [
        "18q.ans..In Python, lists and dictionaries serve different purposes, and choosing between them depends on the specific requirements of your task. Here are situations where lists are preferred over dictionaries:\n",
        "\n",
        "..Ordered Collections: Use lists when the order of elements matters.\n",
        "\n",
        "..Index-Based Access: If you need to access elements by their position, lists provide efficient O(1) time complexity for index-based retrieval.\n",
        "\n",
        "\n",
        "..Allowing Duplicates: Lists can contain duplicate elements, which is useful when the same value may appear multiple times in your data.\n",
        "\n",
        "\n",
        "\n",
        "\n",
        "\n",
        "\n"
      ],
      "metadata": {
        "id": "KByP1blF925u"
      }
    },
    {
      "cell_type": "markdown",
      "source": [
        "19q.ans..In Python, dictionaries were traditionally considered unordered collections, meaning they did not maintain the order of items. This behavior was due to their underlying implementation using hash tables, which prioritize fast access over order.\n",
        "\n",
        "\n",
        "...🔍 Why Were Dictionaries Considered Unordered?\n",
        "\n",
        "... dictionaries did not preserve the insertion order of keys. This means that when you iterated over a dictionary, the items could appear in any order, regardless of how they were added. This behavior stemmed from the use of hash tables, where the position of each key-value pair is determined by the hash of the key, not the insertion sequence.\n",
        "\n",
        "\n"
      ],
      "metadata": {
        "id": "KPqJdaJB-pg7"
      }
    },
    {
      "cell_type": "markdown",
      "source": [
        "20q.ans..In Python, lists and dictionaries are fundamental data structures, each optimized for specific data retrieval patterns. Understanding their differences is crucial for selecting the appropriate structure for your tasks.\n",
        "\n"
      ],
      "metadata": {
        "id": "VLMJeKqK_gJf"
      }
    },
    {
      "cell_type": "markdown",
      "source": [
        "PRACTICAL QUESTIONS.."
      ],
      "metadata": {
        "id": "eZvoegCtFaMU"
      }
    },
    {
      "cell_type": "markdown",
      "source": [
        "1Q.ANS.."
      ],
      "metadata": {
        "id": "1ARA_43dFjX9"
      }
    },
    {
      "cell_type": "code",
      "source": [
        "my_name = 'anaya_rana'\n",
        "print(my_name)\n"
      ],
      "metadata": {
        "colab": {
          "base_uri": "https://localhost:8080/"
        },
        "id": "J8leiK0ZF2RT",
        "outputId": "f89a61bf-52d2-48d7-ddba-180db92167ba"
      },
      "execution_count": null,
      "outputs": [
        {
          "output_type": "stream",
          "name": "stdout",
          "text": [
            "anaya_rana\n"
          ]
        }
      ]
    },
    {
      "cell_type": "markdown",
      "source": [
        "2Q.ANS.."
      ],
      "metadata": {
        "id": "bbz-erLsGOiW"
      }
    },
    {
      "cell_type": "code",
      "source": [
        "\n",
        "my_string = \"hello world\"\n",
        "length = len(my_string)\n",
        "print(\"The length of the string is\" ,length)\n"
      ],
      "metadata": {
        "colab": {
          "base_uri": "https://localhost:8080/"
        },
        "id": "_uAH8YEPGSnf",
        "outputId": "2c264673-2d37-4678-d7ab-ddfca743a035"
      },
      "execution_count": null,
      "outputs": [
        {
          "output_type": "stream",
          "name": "stdout",
          "text": [
            "The length of the string is 11\n"
          ]
        }
      ]
    },
    {
      "cell_type": "markdown",
      "source": [
        "3Q.ANS.."
      ],
      "metadata": {
        "id": "ev9FHPhpG_Dj"
      }
    },
    {
      "cell_type": "code",
      "source": [
        "\n",
        "text = \"python programming\"\n",
        "\n",
        "\n",
        "first_three = text[:3]\n",
        "\n",
        "\n",
        "print(\"The first 3 characters are:\", first_three)\n"
      ],
      "metadata": {
        "colab": {
          "base_uri": "https://localhost:8080/"
        },
        "id": "AYMkYKBEHSis",
        "outputId": "b5f38fcf-c4d9-44f4-c18c-b2816a746ecf"
      },
      "execution_count": null,
      "outputs": [
        {
          "output_type": "stream",
          "name": "stdout",
          "text": [
            "The first 3 characters are: pyt\n"
          ]
        }
      ]
    },
    {
      "cell_type": "markdown",
      "source": [
        "4Q.ANS.."
      ],
      "metadata": {
        "id": "KZV8vKNjHZW5"
      }
    },
    {
      "cell_type": "code",
      "source": [
        "\n",
        "text = \"hello\"\n",
        "\n",
        "uppercase_text = text.upper()\n",
        "\n",
        "\n",
        "print(\"Uppercase version:\", uppercase_text)\n"
      ],
      "metadata": {
        "colab": {
          "base_uri": "https://localhost:8080/"
        },
        "id": "SUzSF8tRHcs8",
        "outputId": "16262ac6-8047-46dc-d5dc-e0cb5d5855d9"
      },
      "execution_count": null,
      "outputs": [
        {
          "output_type": "stream",
          "name": "stdout",
          "text": [
            "Uppercase version: HELLO\n"
          ]
        }
      ]
    },
    {
      "cell_type": "markdown",
      "source": [
        "5Q.ANS.."
      ],
      "metadata": {
        "id": "xJFP42rzH0Kn"
      }
    },
    {
      "cell_type": "code",
      "source": [
        "\n",
        "text = \"I LIKE THE APPLE\"\n",
        "\n",
        "\n",
        "new_text = text.replace(\"APPLE\", \"ORANGE\")\n",
        "\n",
        "\n",
        "print(\"Updated string:\", new_text)\n"
      ],
      "metadata": {
        "colab": {
          "base_uri": "https://localhost:8080/"
        },
        "id": "SGpGiO8tH28O",
        "outputId": "b081228d-8159-43a9-dc8c-a4403a3274f7"
      },
      "execution_count": null,
      "outputs": [
        {
          "output_type": "stream",
          "name": "stdout",
          "text": [
            "Updated string: I LIKE THE ORANGE\n"
          ]
        }
      ]
    },
    {
      "cell_type": "markdown",
      "source": [
        "6Q.ANS.."
      ],
      "metadata": {
        "id": "BZJULY3uIxuH"
      }
    },
    {
      "cell_type": "code",
      "source": [
        "\n",
        "numbers = [1, 2, 3, 4, 5]\n",
        "\n",
        "\n",
        "print(\"The list is:\", numbers)\n"
      ],
      "metadata": {
        "colab": {
          "base_uri": "https://localhost:8080/"
        },
        "id": "f_Su4Vo8JHOi",
        "outputId": "ec7d843d-eba3-4c89-87e3-65e5bda175da"
      },
      "execution_count": null,
      "outputs": [
        {
          "output_type": "stream",
          "name": "stdout",
          "text": [
            "The list is: [1, 2, 3, 4, 5]\n"
          ]
        }
      ]
    },
    {
      "cell_type": "markdown",
      "source": [
        "7Q.ANS.."
      ],
      "metadata": {
        "id": "KWe2NK3fJ10A"
      }
    },
    {
      "cell_type": "code",
      "source": [
        "\n",
        "numbers = [1, 2, 3, 4]\n",
        "\n",
        "\n",
        "numbers.append(10)\n",
        "\n",
        "\n",
        "print(\"Updated list:\", numbers)\n"
      ],
      "metadata": {
        "colab": {
          "base_uri": "https://localhost:8080/"
        },
        "id": "7jGTbq3jJ3t5",
        "outputId": "3840270e-df9a-4a0c-83f4-a9a623c959d7"
      },
      "execution_count": null,
      "outputs": [
        {
          "output_type": "stream",
          "name": "stdout",
          "text": [
            "Updated list: [1, 2, 3, 4, 10]\n"
          ]
        }
      ]
    },
    {
      "cell_type": "markdown",
      "source": [
        "8q.ans.."
      ],
      "metadata": {
        "id": "SYYpKV65LNeH"
      }
    },
    {
      "cell_type": "code",
      "source": [
        "numbers = [1,2,3,4]\n",
        "\n",
        "\n",
        "numbers.remove(3)\n",
        "\n",
        "print(\"updated list\" , numbers)"
      ],
      "metadata": {
        "colab": {
          "base_uri": "https://localhost:8080/"
        },
        "id": "rEU1sk1nLPZ-",
        "outputId": "e60680a1-5145-45ee-afbc-bcf10b8cf10f"
      },
      "execution_count": null,
      "outputs": [
        {
          "output_type": "stream",
          "name": "stdout",
          "text": [
            "updated list [1, 2, 4]\n"
          ]
        }
      ]
    },
    {
      "cell_type": "markdown",
      "source": [
        "9q.ans.."
      ],
      "metadata": {
        "id": "R0fLa5jVLoK9"
      }
    },
    {
      "cell_type": "code",
      "source": [
        "\n",
        "letters = ['a', 'b', 'c', 'd']\n",
        "\n",
        "second_element = letters[1]\n",
        "\n",
        "\n",
        "print(\"The second element is:\", second_element)\n"
      ],
      "metadata": {
        "colab": {
          "base_uri": "https://localhost:8080/"
        },
        "id": "9BWzikpMLqxk",
        "outputId": "77cbaa97-83d0-41f4-e428-dc612494683b"
      },
      "execution_count": null,
      "outputs": [
        {
          "output_type": "stream",
          "name": "stdout",
          "text": [
            "The second element is: b\n"
          ]
        }
      ]
    },
    {
      "cell_type": "markdown",
      "source": [
        "10q.ans.."
      ],
      "metadata": {
        "id": "Wz6VTRRVMRs-"
      }
    },
    {
      "cell_type": "code",
      "source": [
        "\n",
        "numbers = [10, 20, 30, 40, 50]\n",
        "\n",
        "\n",
        "numbers.reverse()\n",
        "\n",
        "\n",
        "print(\"Reversed list:\", numbers)\n"
      ],
      "metadata": {
        "colab": {
          "base_uri": "https://localhost:8080/"
        },
        "id": "pye9bakgMTfX",
        "outputId": "7930bf59-4028-488f-9456-1b98516ac9d4"
      },
      "execution_count": null,
      "outputs": [
        {
          "output_type": "stream",
          "name": "stdout",
          "text": [
            "Reversed list: [50, 40, 30, 20, 10]\n"
          ]
        }
      ]
    },
    {
      "cell_type": "markdown",
      "source": [
        "11Q.ANS.."
      ],
      "metadata": {
        "id": "p52-OUQfujCT"
      }
    },
    {
      "cell_type": "code",
      "source": [
        "\n",
        "my_tuple = (100, 200, 300)\n",
        "\n",
        "\n",
        "print(my_tuple)\n"
      ],
      "metadata": {
        "colab": {
          "base_uri": "https://localhost:8080/"
        },
        "id": "I-pnvvpBvIW3",
        "outputId": "3cf9c7aa-5fc0-49cd-a1c8-28fc3be7ad94"
      },
      "execution_count": 1,
      "outputs": [
        {
          "output_type": "stream",
          "name": "stdout",
          "text": [
            "(100, 200, 300)\n"
          ]
        }
      ]
    },
    {
      "cell_type": "markdown",
      "source": [
        "12Q.ANS.."
      ],
      "metadata": {
        "id": "ByhEMv86vPec"
      }
    },
    {
      "cell_type": "code",
      "source": [
        "\n",
        "colors = ('RED', 'GREEN', 'BLUE', 'YELLOW')\n",
        "\n",
        "\n",
        "second_to_last = colors[-2]\n",
        "\n",
        "\n",
        "print(second_to_last)\n"
      ],
      "metadata": {
        "colab": {
          "base_uri": "https://localhost:8080/"
        },
        "id": "QCqbU8vwvUXl",
        "outputId": "288228fd-73ca-41db-970f-cd326a960151"
      },
      "execution_count": 2,
      "outputs": [
        {
          "output_type": "stream",
          "name": "stdout",
          "text": [
            "BLUE\n"
          ]
        }
      ]
    },
    {
      "cell_type": "markdown",
      "source": [
        "13Q.ANS.."
      ],
      "metadata": {
        "id": "2f8R76Ebv1US"
      }
    },
    {
      "cell_type": "code",
      "source": [
        "\n",
        "numbers = (10, 20, 5, 15)\n",
        "\n",
        "\n",
        "minimum = min(numbers)\n",
        "\n",
        "\n",
        "print(minimum)\n"
      ],
      "metadata": {
        "colab": {
          "base_uri": "https://localhost:8080/"
        },
        "id": "zqyV-rFxwGMV",
        "outputId": "3e3c7680-f7d6-43a2-99b0-5c18f5610689"
      },
      "execution_count": 3,
      "outputs": [
        {
          "output_type": "stream",
          "name": "stdout",
          "text": [
            "5\n"
          ]
        }
      ]
    },
    {
      "cell_type": "markdown",
      "source": [
        "14Q.ANS.."
      ],
      "metadata": {
        "id": "cvt_U_gpwMOx"
      }
    },
    {
      "cell_type": "code",
      "source": [
        "# Define the tuple\n",
        "animals = ('DOG', 'CAT', 'RABBIT')\n",
        "\n",
        "# Find the index of \"CAT\"\n",
        "index_of_cat = animals.index('CAT')\n",
        "\n",
        "# Print the result\n",
        "print(index_of_cat)\n"
      ],
      "metadata": {
        "colab": {
          "base_uri": "https://localhost:8080/"
        },
        "id": "ZQ090ax0wN0T",
        "outputId": "24da641b-03ae-4232-b23e-5d25d2d6a92c"
      },
      "execution_count": 4,
      "outputs": [
        {
          "output_type": "stream",
          "name": "stdout",
          "text": [
            "1\n"
          ]
        }
      ]
    },
    {
      "cell_type": "markdown",
      "source": [
        "15Q.ANS.."
      ],
      "metadata": {
        "id": "CdQELp6Swnun"
      }
    },
    {
      "cell_type": "code",
      "source": [
        "# Create a tuple with fruits\n",
        "fruits = ('APPLE', 'BANANA', 'ORANGE')\n",
        "\n",
        "# Check if \"KIWI\" is in the tuple\n",
        "if 'KIWI' in fruits:\n",
        "    print(\"KIWI is in the tuple.\")\n",
        "else:\n",
        "    print(\"KIWI is not in the tuple.\")\n"
      ],
      "metadata": {
        "colab": {
          "base_uri": "https://localhost:8080/"
        },
        "id": "cagwd4BGwq24",
        "outputId": "fcb60685-b9c0-4ab8-8a4e-59d565a48914"
      },
      "execution_count": 5,
      "outputs": [
        {
          "output_type": "stream",
          "name": "stdout",
          "text": [
            "KIWI is not in the tuple.\n"
          ]
        }
      ]
    },
    {
      "cell_type": "markdown",
      "source": [
        "16Q.ANS.."
      ],
      "metadata": {
        "id": "xYcnpdzLxB59"
      }
    },
    {
      "cell_type": "code",
      "source": [
        "# Create a set\n",
        "my_set = {'A', 'B', 'C'}\n",
        "\n",
        "# Print the set\n",
        "print(my_set)\n"
      ],
      "metadata": {
        "colab": {
          "base_uri": "https://localhost:8080/"
        },
        "id": "sf9VXk0qxE4H",
        "outputId": "1e7c6ba0-1522-4d00-8bf1-dd2402aa05b9"
      },
      "execution_count": 6,
      "outputs": [
        {
          "output_type": "stream",
          "name": "stdout",
          "text": [
            "{'C', 'B', 'A'}\n"
          ]
        }
      ]
    },
    {
      "cell_type": "markdown",
      "source": [
        "17Q.ANS.."
      ],
      "metadata": {
        "id": "OiD6xUJmxcSz"
      }
    },
    {
      "cell_type": "code",
      "source": [
        "# Create the set\n",
        "numbers = {1, 2, 3, 4, 5}\n",
        "\n",
        "# Clear all elements from the set\n",
        "numbers.clear()\n",
        "\n",
        "# Print the empty set\n",
        "print(numbers)\n"
      ],
      "metadata": {
        "colab": {
          "base_uri": "https://localhost:8080/"
        },
        "id": "2BuQtBTFxeHV",
        "outputId": "39d42f27-050d-48af-bd0a-a7c3dc81aba8"
      },
      "execution_count": 12,
      "outputs": [
        {
          "output_type": "stream",
          "name": "stdout",
          "text": [
            "set()\n"
          ]
        }
      ]
    },
    {
      "cell_type": "markdown",
      "source": [
        "18Q.ANS.."
      ],
      "metadata": {
        "id": "ksEc08gryl8K"
      }
    },
    {
      "cell_type": "code",
      "source": [
        "my_set = {1,2,3,4}\n",
        "\n",
        "my_set.remove(4)\n",
        "\n",
        "print(my_set)"
      ],
      "metadata": {
        "colab": {
          "base_uri": "https://localhost:8080/"
        },
        "id": "xnhcrwWhynst",
        "outputId": "7b1932f0-f282-45cb-ef9b-c18dd216ab95"
      },
      "execution_count": 17,
      "outputs": [
        {
          "output_type": "stream",
          "name": "stdout",
          "text": [
            "{1, 2, 3}\n"
          ]
        }
      ]
    },
    {
      "cell_type": "markdown",
      "source": [
        "19Q.ANS.."
      ],
      "metadata": {
        "id": "8BqzBTTYzhoL"
      }
    },
    {
      "cell_type": "code",
      "source": [
        "# Define the sets\n",
        "set1 = {1, 2, 3}\n",
        "set2 = {3, 4, 5}\n",
        "\n",
        "# Find the union\n",
        "union_set = set1.union(set2)\n",
        "\n",
        "# Print the result\n",
        "print(union_set)\n"
      ],
      "metadata": {
        "colab": {
          "base_uri": "https://localhost:8080/"
        },
        "id": "DNxPhPpQzmfI",
        "outputId": "b5273130-16b3-468f-8fbd-0bca88ac1832"
      },
      "execution_count": 18,
      "outputs": [
        {
          "output_type": "stream",
          "name": "stdout",
          "text": [
            "{1, 2, 3, 4, 5}\n"
          ]
        }
      ]
    },
    {
      "cell_type": "markdown",
      "source": [
        "20Q.ANS.."
      ],
      "metadata": {
        "id": "_NP2cP2Mz7yd"
      }
    },
    {
      "cell_type": "code",
      "source": [
        "# Define the sets\n",
        "set1 = {1, 2, 3}\n",
        "set2 = {2, 3, 4}\n",
        "\n",
        "# Find the intersection\n",
        "intersection_set = set1.intersection(set2)\n",
        "\n",
        "# Print the result\n",
        "print(intersection_set)\n"
      ],
      "metadata": {
        "colab": {
          "base_uri": "https://localhost:8080/"
        },
        "id": "NVvW2-_Tz_2g",
        "outputId": "1983b9fa-ae79-4469-fc9f-24a4ffba8775"
      },
      "execution_count": 19,
      "outputs": [
        {
          "output_type": "stream",
          "name": "stdout",
          "text": [
            "{2, 3}\n"
          ]
        }
      ]
    },
    {
      "cell_type": "markdown",
      "source": [
        "21Q.ANS.."
      ],
      "metadata": {
        "id": "otzNQTXb0UU1"
      }
    },
    {
      "cell_type": "code",
      "source": [
        "# Create the dictionary\n",
        "person_info = {\n",
        "    'NAME': 'John Doe',\n",
        "    'AGE': 30,\n",
        "    'CITY': 'New York'\n",
        "}\n",
        "\n",
        "# Print the dictionary\n",
        "print(person_info)\n"
      ],
      "metadata": {
        "colab": {
          "base_uri": "https://localhost:8080/"
        },
        "id": "tzdijHhv0WQ-",
        "outputId": "2ae35199-701c-4c8d-f90e-0af34cfbb8b8"
      },
      "execution_count": 26,
      "outputs": [
        {
          "output_type": "stream",
          "name": "stdout",
          "text": [
            "{'NAME': 'John Doe', 'AGE': 30, 'CITY': 'New York'}\n"
          ]
        }
      ]
    },
    {
      "cell_type": "markdown",
      "source": [
        "22Q.ANS.."
      ],
      "metadata": {
        "id": "AYdG6X2P1_lF"
      }
    },
    {
      "cell_type": "code",
      "source": [
        "# Create the original dictionary\n",
        "person = {'name': 'john', 'age': 25}\n",
        "\n",
        "# Add the new key-value pair\n",
        "person['country'] = 'USA'\n",
        "\n",
        "# Print the updated dictionary\n",
        "print(person)\n",
        "\n"
      ],
      "metadata": {
        "colab": {
          "base_uri": "https://localhost:8080/"
        },
        "id": "ixxJSbGf2GV-",
        "outputId": "12ea61f8-05c1-4db4-fabc-469a1ed93cec"
      },
      "execution_count": 29,
      "outputs": [
        {
          "output_type": "stream",
          "name": "stdout",
          "text": [
            "{'name': 'john', 'age': 25, 'country': 'USA'}\n"
          ]
        }
      ]
    },
    {
      "cell_type": "markdown",
      "source": [
        "23Q.ANS.."
      ],
      "metadata": {
        "id": "gFuJNGqC3OxA"
      }
    },
    {
      "cell_type": "code",
      "source": [
        "# Create the dictionary\n",
        "person = {'NAME': 'ALICE', 'AGE': 30}\n",
        "\n",
        "# Access the value associated with the key \"NAME\"\n",
        "name_value = person['NAME']\n",
        "\n",
        "# Print the result\n",
        "print(name_value)\n"
      ],
      "metadata": {
        "colab": {
          "base_uri": "https://localhost:8080/"
        },
        "id": "sBx-2pE93SCK",
        "outputId": "fd45c322-fa31-439d-bba0-ee38463c56a5"
      },
      "execution_count": 30,
      "outputs": [
        {
          "output_type": "stream",
          "name": "stdout",
          "text": [
            "ALICE\n"
          ]
        }
      ]
    },
    {
      "cell_type": "markdown",
      "source": [
        "24Q.ANS."
      ],
      "metadata": {
        "id": "vkiV1ETZ33pv"
      }
    },
    {
      "cell_type": "code",
      "source": [
        "person = {'name': 'bob','age':22,'city':'new york'}\n",
        "\n",
        "del person['age']\n",
        "\n",
        "print(person)"
      ],
      "metadata": {
        "colab": {
          "base_uri": "https://localhost:8080/"
        },
        "id": "ozAx04_-35nX",
        "outputId": "0a8002d5-f020-462a-b316-a73b93dcd3c8"
      },
      "execution_count": 35,
      "outputs": [
        {
          "output_type": "stream",
          "name": "stdout",
          "text": [
            "{'name': 'bob', 'city': 'new york'}\n"
          ]
        }
      ]
    },
    {
      "cell_type": "markdown",
      "source": [
        "25Q.ANS.."
      ],
      "metadata": {
        "id": "FEuK2DfV5byN"
      }
    },
    {
      "cell_type": "code",
      "source": [
        "# Create the dictionary\n",
        "person = {'name': 'alice', 'age': 22, 'city': 'new york'}\n",
        "\n",
        "# Check if the key \"city\" exists in the dictionary\n",
        "if 'city' in person:\n",
        "    print(\"The key 'city' exists in the dictionary.\")\n",
        "else:\n",
        "    print(\"The key 'city' does not exist in the dictionary.\")\n"
      ],
      "metadata": {
        "colab": {
          "base_uri": "https://localhost:8080/"
        },
        "id": "YgOl56bw5928",
        "outputId": "d4ad6877-4cb2-4f49-ad65-cd052407f4e5"
      },
      "execution_count": 36,
      "outputs": [
        {
          "output_type": "stream",
          "name": "stdout",
          "text": [
            "The key 'city' exists in the dictionary.\n"
          ]
        }
      ]
    },
    {
      "cell_type": "markdown",
      "source": [
        "26Q.ANS.."
      ],
      "metadata": {
        "id": "TU4CT48w6AUu"
      }
    },
    {
      "cell_type": "code",
      "source": [
        "# Create a list\n",
        "my_list = [1, 2, 3, 4, 5]\n",
        "\n",
        "# Create a tuple\n",
        "my_tuple = (10, 20, 30, 40, 50)\n",
        "\n",
        "# Create a dictionary\n",
        "my_dict = {'name': 'Alice', 'age': 30, 'city': 'New York'}\n",
        "\n",
        "# Print the list, tuple, and dictionary\n",
        "print(\"List:\", my_list)\n",
        "print(\"Tuple:\", my_tuple)\n",
        "print(\"Dictionary:\", my_dict)\n"
      ],
      "metadata": {
        "colab": {
          "base_uri": "https://localhost:8080/"
        },
        "id": "EOd9Yy006J8o",
        "outputId": "1a74987c-a032-4b4f-b02d-1587604c7990"
      },
      "execution_count": 37,
      "outputs": [
        {
          "output_type": "stream",
          "name": "stdout",
          "text": [
            "List: [1, 2, 3, 4, 5]\n",
            "Tuple: (10, 20, 30, 40, 50)\n",
            "Dictionary: {'name': 'Alice', 'age': 30, 'city': 'New York'}\n"
          ]
        }
      ]
    },
    {
      "cell_type": "markdown",
      "source": [
        "27Q.ANS.."
      ],
      "metadata": {
        "id": "0XywG3Rz6eJ2"
      }
    },
    {
      "cell_type": "code",
      "source": [
        "import random\n",
        "\n",
        "# Create a list of 5 random numbers between 1 and 100\n",
        "random_numbers = [random.randint(1, 100) for _ in range(5)]\n",
        "\n",
        "# Sort the list in ascending order\n",
        "random_numbers.sort()\n",
        "\n",
        "# Print the result\n",
        "print(\"Sorted List:\", random_numbers)\n"
      ],
      "metadata": {
        "colab": {
          "base_uri": "https://localhost:8080/"
        },
        "id": "CXvV8C_v7TdE",
        "outputId": "e4b02604-a115-484a-d409-07e7ebe16fb4"
      },
      "execution_count": 38,
      "outputs": [
        {
          "output_type": "stream",
          "name": "stdout",
          "text": [
            "Sorted List: [6, 10, 26, 28, 84]\n"
          ]
        }
      ]
    },
    {
      "cell_type": "markdown",
      "source": [
        "28Q.ANS.."
      ],
      "metadata": {
        "id": "MNsINkWK7V-t"
      }
    },
    {
      "cell_type": "code",
      "source": [
        "# Create a list with strings\n",
        "my_list = ['apple', 'banana', 'cherry', 'date', 'elderberry']\n",
        "\n",
        "# Print the element at the third index\n",
        "print(my_list[3])\n"
      ],
      "metadata": {
        "colab": {
          "base_uri": "https://localhost:8080/"
        },
        "id": "XXJ0rTNR7myi",
        "outputId": "1a99b251-3fe2-4216-bcce-2386ac45e87b"
      },
      "execution_count": 39,
      "outputs": [
        {
          "output_type": "stream",
          "name": "stdout",
          "text": [
            "date\n"
          ]
        }
      ]
    },
    {
      "cell_type": "markdown",
      "source": [
        "29Q.ANS.."
      ],
      "metadata": {
        "id": "5Td1xaiy7o7V"
      }
    },
    {
      "cell_type": "code",
      "source": [
        "# Create two dictionaries\n",
        "dict1 = {'name': 'Alice', 'age': 30}\n",
        "dict2 = {'city': 'New York', 'job': 'Engineer'}\n",
        "\n",
        "# Combine the dictionaries\n",
        "combined_dict = {**dict1, **dict2}\n",
        "\n",
        "# Print the result\n",
        "print(combined_dict)\n"
      ],
      "metadata": {
        "colab": {
          "base_uri": "https://localhost:8080/"
        },
        "id": "QW8oMLL07t5R",
        "outputId": "ea5b19d2-d45a-4bd8-fe6b-48140d05c4cd"
      },
      "execution_count": 40,
      "outputs": [
        {
          "output_type": "stream",
          "name": "stdout",
          "text": [
            "{'name': 'Alice', 'age': 30, 'city': 'New York', 'job': 'Engineer'}\n"
          ]
        }
      ]
    },
    {
      "cell_type": "markdown",
      "source": [
        "30Q.ANS.."
      ],
      "metadata": {
        "id": "wcBDHeeK7-fp"
      }
    },
    {
      "cell_type": "code",
      "source": [
        "# Create a list of strings\n",
        "my_list = ['apple', 'banana', 'cherry', 'apple', 'banana']\n",
        "\n",
        "# Convert the list to a set\n",
        "my_set = set(my_list)\n",
        "\n",
        "# Print the result\n",
        "print(my_set)\n"
      ],
      "metadata": {
        "colab": {
          "base_uri": "https://localhost:8080/"
        },
        "id": "k3MhkWTb8AYJ",
        "outputId": "ee4d9ee6-d221-4a56-91df-69efc11c6032"
      },
      "execution_count": 41,
      "outputs": [
        {
          "output_type": "stream",
          "name": "stdout",
          "text": [
            "{'cherry', 'banana', 'apple'}\n"
          ]
        }
      ]
    },
    {
      "cell_type": "markdown",
      "source": [
        "COMPLETED..THANKS"
      ],
      "metadata": {
        "id": "dMExzyuy8N4B"
      }
    }
  ],
  "metadata": {
    "colab": {
      "provenance": []
    },
    "kernelspec": {
      "display_name": "Python 3",
      "name": "python3"
    }
  },
  "nbformat": 4,
  "nbformat_minor": 0
}